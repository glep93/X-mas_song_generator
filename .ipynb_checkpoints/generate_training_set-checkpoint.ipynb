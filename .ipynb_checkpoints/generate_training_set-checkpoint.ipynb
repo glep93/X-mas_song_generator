{
 "cells": [
  {
   "cell_type": "code",
   "execution_count": 1,
   "metadata": {},
   "outputs": [],
   "source": [
    "import pandas as pd\n",
    "import lyricsgenius"
   ]
  },
  {
   "cell_type": "code",
   "execution_count": 2,
   "metadata": {},
   "outputs": [],
   "source": [
    "f = open('genius_API_token.txt', 'r')  #the secret file conaining my token for genius API\n",
    "token = f.read()\n",
    "f.close()"
   ]
  },
  {
   "cell_type": "code",
   "execution_count": 10,
   "metadata": {},
   "outputs": [
    {
     "name": "stderr",
     "output_type": "stream",
     "text": [
      "/home/luca/.local/lib/python3.6/site-packages/pandas/core/frame.py:7138: FutureWarning: Sorting because non-concatenation axis is not aligned. A future version\n",
      "of pandas will change to not sort by default.\n",
      "\n",
      "To accept the future behavior, pass 'sort=False'.\n",
      "\n",
      "To retain the current behavior and silence the warning, pass 'sort=True'.\n",
      "\n",
      "  sort=sort,\n"
     ]
    }
   ],
   "source": [
    "df = pd.read_html('https://en.wikipedia.org/wiki/List_of_popular_Christmas_singles_in_the_United_States')[2]\n",
    "\n",
    "df = df.append(pd.read_html('https://en.wikipedia.org/wiki/List_of_Christmas_hit_singles_in_the_United_Kingdom')[1])\n",
    "\n",
    "df = df [['Artist'.'Title' ]]"
   ]
  },
  {
   "cell_type": "code",
   "execution_count": 11,
   "metadata": {},
   "outputs": [
    {
     "data": {
      "text/html": [
       "<div>\n",
       "<style scoped>\n",
       "    .dataframe tbody tr th:only-of-type {\n",
       "        vertical-align: middle;\n",
       "    }\n",
       "\n",
       "    .dataframe tbody tr th {\n",
       "        vertical-align: top;\n",
       "    }\n",
       "\n",
       "    .dataframe thead th {\n",
       "        text-align: right;\n",
       "    }\n",
       "</style>\n",
       "<table border=\"1\" class=\"dataframe\">\n",
       "  <thead>\n",
       "    <tr style=\"text-align: right;\">\n",
       "      <th></th>\n",
       "      <th>Additional Information</th>\n",
       "      <th>Additional information</th>\n",
       "      <th>Artist</th>\n",
       "      <th>Title</th>\n",
       "      <th>Year</th>\n",
       "    </tr>\n",
       "  </thead>\n",
       "  <tbody>\n",
       "    <tr>\n",
       "      <th>0</th>\n",
       "      <td>NaN</td>\n",
       "      <td>From the album Moving. Written by Paul Stookey...</td>\n",
       "      <td>Peter, Paul &amp; Mary</td>\n",
       "      <td>\"A' Soalin'\"</td>\n",
       "      <td>1963</td>\n",
       "    </tr>\n",
       "    <tr>\n",
       "      <th>1</th>\n",
       "      <td>NaN</td>\n",
       "      <td>Peaked at No. 5 on the Billboard pop singles c...</td>\n",
       "      <td>Associated Glee Clubs of America</td>\n",
       "      <td>\"Adeste Fideles(O Come, All Ye Faithful)\"</td>\n",
       "      <td>1925</td>\n",
       "    </tr>\n",
       "    <tr>\n",
       "      <th>2</th>\n",
       "      <td>NaN</td>\n",
       "      <td>Peaked at No. 45 on the Billboard Hot 100 sing...</td>\n",
       "      <td>Bing Crosby</td>\n",
       "      <td>\"Adeste Fideles(O Come, All Ye Faithful)\"</td>\n",
       "      <td>1942</td>\n",
       "    </tr>\n",
       "    <tr>\n",
       "      <th>3</th>\n",
       "      <td>NaN</td>\n",
       "      <td>Peaked at No. 83 on the Billboard Hot 100 sing...</td>\n",
       "      <td>Darlene Love</td>\n",
       "      <td>\"All Alone on Christmas\"</td>\n",
       "      <td>1992</td>\n",
       "    </tr>\n",
       "    <tr>\n",
       "      <th>4</th>\n",
       "      <td>NaN</td>\n",
       "      <td>Peaked at No. 2 on the Billboard Christian Son...</td>\n",
       "      <td>Steven Curtis Chapman</td>\n",
       "      <td>\"All I Really Want for Christmas\"</td>\n",
       "      <td>2005</td>\n",
       "    </tr>\n",
       "    <tr>\n",
       "      <th>...</th>\n",
       "      <td>...</td>\n",
       "      <td>...</td>\n",
       "      <td>...</td>\n",
       "      <td>...</td>\n",
       "      <td>...</td>\n",
       "    </tr>\n",
       "    <tr>\n",
       "      <th>176</th>\n",
       "      <td>Peaked at No. 7 in the 1969 Christmas Chart</td>\n",
       "      <td>NaN</td>\n",
       "      <td>Engelbert Humperdinck</td>\n",
       "      <td>\"Winter World of Love\"</td>\n",
       "      <td>1969</td>\n",
       "    </tr>\n",
       "    <tr>\n",
       "      <th>177</th>\n",
       "      <td>Peaked at No. 2 on the Official Singles Chart ...</td>\n",
       "      <td>NaN</td>\n",
       "      <td>The Wombles</td>\n",
       "      <td>\"Wombling Merry Christmas\"</td>\n",
       "      <td>1974</td>\n",
       "    </tr>\n",
       "    <tr>\n",
       "      <th>178</th>\n",
       "      <td>Peaked at No. 6 on the Official Singles Chart ...</td>\n",
       "      <td>NaN</td>\n",
       "      <td>Paul McCartney</td>\n",
       "      <td>\"Wonderful Christmastime\"</td>\n",
       "      <td>1979</td>\n",
       "    </tr>\n",
       "    <tr>\n",
       "      <th>179</th>\n",
       "      <td>Peaked at No. 8 on the 1996 Christmas Official...</td>\n",
       "      <td>NaN</td>\n",
       "      <td>The Smurfs</td>\n",
       "      <td>\"Your Christmas Wish\"</td>\n",
       "      <td>1996</td>\n",
       "    </tr>\n",
       "    <tr>\n",
       "      <th>180</th>\n",
       "      <td>A UK top thirty hit in 2009</td>\n",
       "      <td>NaN</td>\n",
       "      <td>Corey Taylor</td>\n",
       "      <td>\"X-M@$\"</td>\n",
       "      <td>2009</td>\n",
       "    </tr>\n",
       "  </tbody>\n",
       "</table>\n",
       "<p>758 rows × 5 columns</p>\n",
       "</div>"
      ],
      "text/plain": [
       "                                Additional Information  \\\n",
       "0                                                  NaN   \n",
       "1                                                  NaN   \n",
       "2                                                  NaN   \n",
       "3                                                  NaN   \n",
       "4                                                  NaN   \n",
       "..                                                 ...   \n",
       "176        Peaked at No. 7 in the 1969 Christmas Chart   \n",
       "177  Peaked at No. 2 on the Official Singles Chart ...   \n",
       "178  Peaked at No. 6 on the Official Singles Chart ...   \n",
       "179  Peaked at No. 8 on the 1996 Christmas Official...   \n",
       "180                        A UK top thirty hit in 2009   \n",
       "\n",
       "                                Additional information  \\\n",
       "0    From the album Moving. Written by Paul Stookey...   \n",
       "1    Peaked at No. 5 on the Billboard pop singles c...   \n",
       "2    Peaked at No. 45 on the Billboard Hot 100 sing...   \n",
       "3    Peaked at No. 83 on the Billboard Hot 100 sing...   \n",
       "4    Peaked at No. 2 on the Billboard Christian Son...   \n",
       "..                                                 ...   \n",
       "176                                                NaN   \n",
       "177                                                NaN   \n",
       "178                                                NaN   \n",
       "179                                                NaN   \n",
       "180                                                NaN   \n",
       "\n",
       "                               Artist  \\\n",
       "0                  Peter, Paul & Mary   \n",
       "1    Associated Glee Clubs of America   \n",
       "2                         Bing Crosby   \n",
       "3                        Darlene Love   \n",
       "4               Steven Curtis Chapman   \n",
       "..                                ...   \n",
       "176             Engelbert Humperdinck   \n",
       "177                       The Wombles   \n",
       "178                    Paul McCartney   \n",
       "179                        The Smurfs   \n",
       "180                      Corey Taylor   \n",
       "\n",
       "                                         Title  Year  \n",
       "0                                 \"A' Soalin'\"  1963  \n",
       "1    \"Adeste Fideles(O Come, All Ye Faithful)\"  1925  \n",
       "2    \"Adeste Fideles(O Come, All Ye Faithful)\"  1942  \n",
       "3                     \"All Alone on Christmas\"  1992  \n",
       "4            \"All I Really Want for Christmas\"  2005  \n",
       "..                                         ...   ...  \n",
       "176                     \"Winter World of Love\"  1969  \n",
       "177                 \"Wombling Merry Christmas\"  1974  \n",
       "178                  \"Wonderful Christmastime\"  1979  \n",
       "179                      \"Your Christmas Wish\"  1996  \n",
       "180                                    \"X-M@$\"  2009  \n",
       "\n",
       "[758 rows x 5 columns]"
      ]
     },
     "execution_count": 11,
     "metadata": {},
     "output_type": "execute_result"
    }
   ],
   "source": [
    "df"
   ]
  },
  {
   "cell_type": "code",
   "execution_count": 12,
   "metadata": {},
   "outputs": [],
   "source": [
    "api = lyricsgenius.Genius(token)"
   ]
  },
  {
   "cell_type": "code",
   "execution_count": 13,
   "metadata": {},
   "outputs": [
    {
     "name": "stdout",
     "output_type": "stream",
     "text": [
      "Searching for \"A Great and Mighty Wonder\"...\n",
      "Done.\n"
     ]
    }
   ],
   "source": [
    "a = api.search_song(\"A Great and Mighty Wonder\")"
   ]
  },
  {
   "cell_type": "code",
   "execution_count": 14,
   "metadata": {},
   "outputs": [
    {
     "data": {
      "text/plain": [
       "'A great and mighty wonder\\nOur Christmas festal brings:\\nOn earth a lowly infant\\nBehold the King of kings!\\n\\nThe Word is made incarnate\\nDescending from on high;\\nAnd cherubim sing anthems\\nTo shepherds from the sky\\n\\nAnd we with them, triumphant\\nRepeat the hymn again:\\n\"To God on high be glory\\nAnd peace on earth to men! \"\\n\\nWhile thus they sing your Monarch\\nThose bright angelic bands\\nRejoice, ye vales and mountains!\\nYe oceans, clap your hands!\\n\\nSince all He comes to ransom\\nBy all be He adored;\\nThe Infant born in Bethlehem\\nThe Savior and the Lord!\\n\\nAnd idol forms shall perish\\nAnd error shall decay\\nAnd Christ shall wield His scepter\\nOur Lord and God for aye...'"
      ]
     },
     "execution_count": 14,
     "metadata": {},
     "output_type": "execute_result"
    }
   ],
   "source": [
    "a.lyrics"
   ]
  },
  {
   "cell_type": "code",
   "execution_count": null,
   "metadata": {},
   "outputs": [],
   "source": []
  }
 ],
 "metadata": {
  "kernelspec": {
   "display_name": "Python 3",
   "language": "python",
   "name": "python3"
  },
  "language_info": {
   "codemirror_mode": {
    "name": "ipython",
    "version": 3
   },
   "file_extension": ".py",
   "mimetype": "text/x-python",
   "name": "python",
   "nbconvert_exporter": "python",
   "pygments_lexer": "ipython3",
   "version": "3.6.9"
  }
 },
 "nbformat": 4,
 "nbformat_minor": 2
}
