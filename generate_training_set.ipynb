{
 "cells": [
  {
   "cell_type": "code",
   "execution_count": 1,
   "metadata": {},
   "outputs": [],
   "source": [
    "import pandas as pd\n",
    "import lyricsgenius\n",
    "import re"
   ]
  },
  {
   "cell_type": "code",
   "execution_count": 2,
   "metadata": {},
   "outputs": [],
   "source": [
    "f = open('genius_API_token.txt', 'r')  #the secret file conaining my token for genius API\n",
    "token = f.read()\n",
    "f.close()"
   ]
  },
  {
   "cell_type": "code",
   "execution_count": 3,
   "metadata": {},
   "outputs": [],
   "source": [
    "df = pd.read_html('https://en.wikipedia.org/wiki/List_of_popular_Christmas_singles_in_the_United_States')[2]\n",
    "\n",
    "df.columns = ['Title', 'Artist', 'Year', 'Additional Information']\n",
    "\n",
    "df = df.append(pd.read_html('https://en.wikipedia.org/wiki/List_of_Christmas_hit_singles_in_the_United_Kingdom')[1]\n",
    "              , ignore_index= True)\n",
    "\n",
    "df = df[['Title','Artist','Year']]"
   ]
  },
  {
   "cell_type": "code",
   "execution_count": 4,
   "metadata": {},
   "outputs": [],
   "source": [
    "def cleaning(x):\n",
    "    x = re.sub(r'\"','',x)\n",
    "    x = re.sub(r'\\([1-9]+\\)','',x)\n",
    "    \n",
    "    return x\n",
    "\n",
    "df.Title = df.Title.apply( cleaning)"
   ]
  },
  {
   "cell_type": "code",
   "execution_count": null,
   "metadata": {},
   "outputs": [],
   "source": [
    "df = df.drop_duplicates()"
   ]
  },
  {
   "cell_type": "code",
   "execution_count": null,
   "metadata": {},
   "outputs": [],
   "source": [
    "api = lyricsgenius.Genius(token)"
   ]
  },
  {
   "cell_type": "code",
   "execution_count": null,
   "metadata": {},
   "outputs": [
    {
     "name": "stdout",
     "output_type": "stream",
     "text": [
      "Searching for \"A' Soalin'\" by Peter, Paul & Mary...\n",
      "Done.\n",
      "Searching for \"Adeste Fideles(O Come, All Ye Faithful)\" by Associated Glee Clubs of America...\n",
      "No results found for: 'Adeste Fideles(O Come, All Ye Faithful) Associated Glee Clubs of America'\n",
      "Searching for \"Adeste Fideles(O Come, All Ye Faithful)\" by Bing Crosby...\n",
      "Done.\n",
      "Searching for \"All Alone on Christmas\" by Darlene Love...\n",
      "Done.\n",
      "Searching for \"All I Really Want for Christmas\" by Steven Curtis Chapman...\n",
      "No results found for: 'All I Really Want for Christmas Steven Curtis Chapman'\n",
      "Searching for \"All I Want for Christmas Is a Real Good Tan\" by Kenny Chesney...\n",
      "Done.\n",
      "Searching for \"All I Want for Christmas Is My Two Front Teeth\" by Spike Jones and his City Slickers...\n",
      "Done.\n",
      "Searching for \"All I Want for Christmas Is You \" by Carla Thomas...\n",
      "Done.\n",
      "Searching for \"All I Want for Christmas Is You \" by Vince Vance & The Valiants...\n",
      "Done.\n",
      "Searching for \"All I Want for Christmas Is You \" by Mariah Carey...\n",
      "Done.\n",
      "Searching for \"All I Want for Christmas Is You \" by Lady Antebellum...\n",
      "Done.\n",
      "Searching for \"All I Want for Christmas Is You \" by Newsboys...\n",
      "Done.\n",
      "Searching for \"All I Want for Christmas Is You \" by Justin Bieber with Mariah Carey...\n",
      "Done.\n",
      "Searching for \"All I Want for Christmas Is You \" by Michael Bublé...\n",
      "Done.\n",
      "Searching for \"All My Love for Christmas\" by Lonestar...\n",
      "Done.\n",
      "Searching for \"Amen\" by The Impressions...\n"
     ]
    }
   ],
   "source": [
    "df['lyrics'] = ''\n",
    "for i , row in df.iterrows():\n",
    "    try:\n",
    "        song = api.search_song(row[0], row[1])\n",
    "        df.at[i,'lyrics'] = song.lyrics\n",
    "    except:\n",
    "        continue"
   ]
  },
  {
   "cell_type": "code",
   "execution_count": null,
   "metadata": {},
   "outputs": [],
   "source": []
  },
  {
   "cell_type": "code",
   "execution_count": null,
   "metadata": {},
   "outputs": [],
   "source": []
  }
 ],
 "metadata": {
  "kernelspec": {
   "display_name": "Python 3",
   "language": "python",
   "name": "python3"
  },
  "language_info": {
   "codemirror_mode": {
    "name": "ipython",
    "version": 3
   },
   "file_extension": ".py",
   "mimetype": "text/x-python",
   "name": "python",
   "nbconvert_exporter": "python",
   "pygments_lexer": "ipython3",
   "version": "3.6.9"
  }
 },
 "nbformat": 4,
 "nbformat_minor": 2
}
